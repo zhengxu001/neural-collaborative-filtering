{
 "cells": [
  {
   "cell_type": "code",
   "execution_count": 1,
   "metadata": {},
   "outputs": [],
   "source": [
    "import torch\n",
    "from torch import nn\n",
    "import pandas as pd\n",
    "import numpy as np\n",
    "import pandas as pd\n",
    "import numpy as np\n",
    "from gmf import GMFEngine\n",
    "from mlp import MLPEngine\n",
    "from neumf import NeuMFEngine\n",
    "from data import SampleGenerator\n",
    "import time"
   ]
  },
  {
   "cell_type": "code",
   "execution_count": 2,
   "metadata": {},
   "outputs": [],
   "source": [
    "def to_timestamp(date_string):\n",
    "    return time.mktime(time.strptime(date_string, '%Y-%m-%dT%H:%M:%S.000Z'))"
   ]
  },
  {
   "cell_type": "code",
   "execution_count": null,
   "metadata": {},
   "outputs": [],
   "source": [
    "snomed_codes = pd.read_csv('diagnosis_big.csv', usecols = ['snomed_id'])\n",
    "frequent_snomed_codes = snomed_codes.value_counts()[100:1100].index\n",
    "\n",
    "diagnosis_df = pd.read_csv('diagnosis_big.csv', usecols = ['explorys_patient_id','snomed_id', 'diagnosis_date'])\n",
    "diagnosis_df = diagnosis_df[np.isin(diagnosis_df.snomed_id, frequent_snomed_codes)]\n",
    "frequent_users = diagnosis_df.explorys_patient_id.value_counts()[:-200000].index\n",
    "diagnosis_df = diagnosis_df[np.isin(diagnosis_df.explorys_patient_id, frequent_users)]\n",
    "\n",
    "user_id = diagnosis_df[['explorys_patient_id']].drop_duplicates().reindex()\n",
    "user_id['userId'] = np.arange(len(user_id))\n",
    "diagnosis_df = pd.merge(diagnosis_df, user_id, on=['explorys_patient_id'], how='left')\n",
    "item_id = diagnosis_df[['snomed_id']].drop_duplicates()\n",
    "item_id['itemId'] = np.arange(len(item_id))\n",
    "diagnosis_df = pd.merge(diagnosis_df, item_id, on=['snomed_id'], how='left')\n",
    "\n",
    "diagnosis_df['timestamp'] = diagnosis_df.diagnosis_date.apply(lambda x: to_timestamp(x))\n",
    "\n",
    "diagnosis_df['rating'] = 1\n",
    "diagnosis_df.to_csv('diagnosis_data.csv', index=False)\n",
    "diagnosis_df = diagnosis_df[['userId', 'itemId', 'rating', 'timestamp']]\n",
    "\n",
    "print('Range of userId is [{}, {}]'.format(diagnosis_df.userId.min(), diagnosis_df.userId.max()))\n",
    "print('Range of itemId is [{}, {}]'.format(diagnosis_df.itemId.min(), diagnosis_df.itemId.max()))"
   ]
  },
  {
   "cell_type": "code",
   "execution_count": 4,
   "metadata": {},
   "outputs": [
    {
     "data": {
      "text/plain": [
       "0.06597158096326317"
      ]
     },
     "execution_count": 4,
     "metadata": {},
     "output_type": "execute_result"
    }
   ],
   "source": [
    "# Check sparsity\n",
    "len(diagnosis_df) / (diagnosis_df.itemId.max()*diagnosis_df.userId.max())"
   ]
  },
  {
   "cell_type": "code",
   "execution_count": 5,
   "metadata": {},
   "outputs": [
    {
     "name": "stderr",
     "output_type": "stream",
     "text": [
      "/Users/xu.b.zheng/neural-collaborative-filtering/src/data.py:61: SettingWithCopyWarning: \n",
      "A value is trying to be set on a copy of a slice from a DataFrame\n",
      "\n",
      "See the caveats in the documentation: https://pandas.pydata.org/pandas-docs/stable/user_guide/indexing.html#returning-a-view-versus-a-copy\n",
      "  ratings['rating'][ratings['rating'] > 0] = 1.0\n"
     ]
    }
   ],
   "source": [
    "sample_generator = SampleGenerator(ratings=diagnosis_df)\n",
    "evaluate_data = sample_generator.evaluate_data"
   ]
  },
  {
   "cell_type": "code",
   "execution_count": null,
   "metadata": {},
   "outputs": [],
   "source": []
  }
 ],
 "metadata": {
  "kernelspec": {
   "display_name": "ncf",
   "language": "python",
   "name": "ncf"
  },
  "language_info": {
   "codemirror_mode": {
    "name": "ipython",
    "version": 3
   },
   "file_extension": ".py",
   "mimetype": "text/x-python",
   "name": "python",
   "nbconvert_exporter": "python",
   "pygments_lexer": "ipython3",
   "version": "3.7.8"
  }
 },
 "nbformat": 4,
 "nbformat_minor": 4
}
